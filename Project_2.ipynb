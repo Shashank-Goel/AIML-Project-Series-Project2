{
  "nbformat": 4,
  "nbformat_minor": 0,
  "metadata": {
    "colab": {
      "provenance": [],
      "authorship_tag": "ABX9TyMoNa972Krfi/fyFsfcX427",
      "include_colab_link": true
    },
    "kernelspec": {
      "name": "python3",
      "display_name": "Python 3"
    },
    "language_info": {
      "name": "python"
    }
  },
  "cells": [
    {
      "cell_type": "markdown",
      "metadata": {
        "id": "view-in-github",
        "colab_type": "text"
      },
      "source": [
        "<a href=\"https://colab.research.google.com/github/Shashank-Goel/AIML-Project-Series-Project2/blob/main/Project_2.ipynb\" target=\"_parent\"><img src=\"https://colab.research.google.com/assets/colab-badge.svg\" alt=\"Open In Colab\"/></a>"
      ]
    },
    {
      "cell_type": "code",
      "execution_count": 1,
      "metadata": {
        "id": "gbQyEeYWtBTg",
        "colab": {
          "base_uri": "https://localhost:8080/"
        },
        "outputId": "a9fe4924-2c1d-4535-91f5-bd3a4165198e"
      },
      "outputs": [
        {
          "output_type": "stream",
          "name": "stdout",
          "text": [
            "Hello! I'm your college admission chatbot.\n",
            "Feel free to ask me anything related to college admission.\n",
            "You: hi\n",
            "Bot: Hi there! What admission information do you need?\n",
            "You: admission procedure\n",
            "Bot: The admission procedures typically involve filling out an application form, submitting required documents, and possibly attending an interview or providing test scores.\n",
            "You: form\n",
            "Bot: I'm sorry, I don't have information on that specific question. Is there anything else you'd like to know?\n",
            "You: admission form\n",
            "Bot: The admission requirements vary depending on the college or university. They often include high school transcripts, standardized test scores (SAT, ACT), letters of recommendation, personal essays, and extracurricular activities.\n",
            "You: bachelor degree\n",
            "Bot: I'm sorry, I don't have information on that specific question. Is there anything else you'd like to know?\n",
            "You: deadline\n",
            "Bot: Admission deadlines also vary by institution. It's essential to check the specific deadlines for each college or university you're applying to. Early decision, early action, and regular decision deadlines may differ.\n",
            "You: thank you\n",
            "Bot: You're welcome! Is there anything else I can assist you with?\n",
            "You: no\n",
            "Bot: I'm sorry, I don't have information on that specific question. Is there anything else you'd like to know?\n",
            "You: bye\n",
            "Bot: Goodbye! If you have any more questions in the future, feel free to ask.\n"
          ]
        }
      ],
      "source": [
        "import random\n",
        "import nltk\n",
        "from nltk.tokenize import word_tokenize\n",
        "from difflib import SequenceMatcher\n",
        "\n",
        "\n",
        "ADMISSION_FAQS = {\n",
        "    \"admission procedures\": \"The admission procedures typically involve filling out an application form, submitting required documents, and possibly attending an interview or providing test scores.\",\n",
        "    \"admission requirements\": \"The admission requirements vary depending on the college or university. They often include high school transcripts, standardized test scores (SAT, ACT), letters of recommendation, personal essays, and extracurricular activities.\",\n",
        "    \"admission deadlines\": \"Admission deadlines also vary by institution. It's essential to check the specific deadlines for each college or university you're applying to. Early decision, early action, and regular decision deadlines may differ.\",\n",
        "    \"financial aid\": \"Many colleges offer financial aid to help students afford tuition and other expenses. This aid can come in the form of scholarships, grants, loans, or work-study programs. Make sure to explore all available options and submit the necessary financial aid forms by the deadlines.\",\n",
        "    \"campus tours\": \"Taking a campus tour is a great way to get a feel for the college or university and learn more about its programs, facilities, and campus culture. You can usually schedule a tour through the college's admissions office or website.\",\n",
        "    \"application fee waiver\": \"Some colleges offer application fee waivers for students with financial need. These waivers typically require documentation to prove eligibility, such as proof of income or participation in a government assistance program.\",\n",
        "    \"transfer admissions\": \"If you're transferring from another college or university, the admissions process may differ from freshman admissions. You'll likely need to submit transcripts from your current institution, along with any additional requirements specific to transfer students.\",\n",
        "    \"international admissions\": \"International students may have additional requirements for admission, such as English language proficiency tests (TOEFL, IELTS), visa documentation, and proof of financial support. It's important to check the specific requirements for international applicants at each institution.\",\n",
        "    \"housing options\": \"Many colleges offer on-campus housing options for students, including dormitories, apartments, and themed housing communities. Some colleges require freshmen to live on campus for their first year, while others offer more flexibility in housing choices.\",\n",
        "    \"academic advising\": \"Academic advising services provide guidance and support to students in planning their academic schedules, choosing majors and minors, and meeting graduation requirements. Advisors can help students navigate course selection, academic policies, and other academic-related issues.\",\n",
        "    \"orientation programs\": \"Orientation programs are designed to help new students transition to college life and become familiar with campus resources, academic expectations, and extracurricular opportunities. These programs often include campus tours, academic advising sessions, and social events.\",\n",
        "    \"placement tests\": \"Some colleges require placement tests in subjects like math or English to determine students' readiness for college-level coursework. These tests help colleges place students in appropriate classes and may impact course selection or prerequisites.\",\n",
        "    \"student support services\": \"Student support services provide resources and assistance to help students succeed academically, personally, and professionally. These services may include tutoring, counseling, career advising, disability support, and wellness programs.\",\n",
        "    \"credit transfer policies\": \"If you've taken college-level courses elsewhere, you may be able to transfer credits to your new institution. Each college has its own credit transfer policies, so it's essential to understand the transfer process and requirements.\",\n",
        "    \"degree programs\": \"Colleges offer a variety of degree programs, including bachelor's, master's, and doctoral degrees, as well as professional programs in fields like business, engineering, education, and healthcare. It's essential to research the programs offered at each college to find the best fit for your academic and career goals.\",\n",
        "    \"extracurricular activities\": \"Extracurricular activities play an essential role in college life, providing opportunities for personal growth, leadership development, and social connections. Colleges offer a wide range of clubs, organizations, sports teams, and volunteer opportunities for students to get involved in.\"\n",
        "}\n",
        "\n",
        "previous_context = {}\n",
        "\n",
        "\n",
        "def get_user_input():\n",
        "    try:\n",
        "        return input(\"You: \")\n",
        "    except KeyboardInterrupt:\n",
        "        return \"bye\"\n",
        "\n",
        "\n",
        "def respond_to_greeting():\n",
        "    return random.choice([\"Hello! How can I assist you with your admission queries?\",\n",
        "                          \"Hi there! What admission information do you need?\",\n",
        "                          \"Hey! I'm here to help you with college admission questions.\"])\n",
        "\n",
        "\n",
        "def similar(key, query):\n",
        "    return SequenceMatcher(None, key, query).ratio()\n",
        "\n",
        "\n",
        "def respond_to_admission_query(query):\n",
        "    best_match = max(ADMISSION_FAQS.keys(), key=lambda key: similar(key, query))\n",
        "    if similar(best_match, query) > 0.5:\n",
        "        return ADMISSION_FAQS[best_match]\n",
        "    else:\n",
        "        return \"I'm sorry, I don't have information on that specific question. Is there anything else you'd like to know?\"\n",
        "\n",
        "\n",
        "def handle_user_input(user_input):\n",
        "    if \"bye\" in user_input:\n",
        "        return False, \"Goodbye! If you have any more questions in the future, feel free to ask.\"\n",
        "    elif any(greeting in user_input.lower() for greeting in [\"hello\", \"hi\"]):\n",
        "        return True, respond_to_greeting()\n",
        "    elif \"thanks\" in user_input.lower() or \"thank you\" in user_input.lower():\n",
        "        return True, \"You're welcome! Is there anything else I can assist you with?\"\n",
        "    elif not user_input.strip():\n",
        "        return True, \"Please enter a valid query.\"\n",
        "    else:\n",
        "        return True, respond_to_admission_query(user_input)\n",
        "\n",
        "def chat():\n",
        "    print(\"Hello! I'm your college admission chatbot.\")\n",
        "    print(\"Feel free to ask me anything related to college admission.\")\n",
        "    while True:\n",
        "        user_input = get_user_input()\n",
        "\n",
        "        continue_chat, response = handle_user_input(user_input)\n",
        "\n",
        "        print(\"Bot:\", response)\n",
        "        if not continue_chat:\n",
        "            break\n",
        "\n",
        "chat()"
      ]
    }
  ]
}